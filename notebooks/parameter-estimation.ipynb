{
 "cells": [
  {
   "cell_type": "markdown",
   "metadata": {},
   "source": [
    "# パラメータ推定"
   ]
  },
  {
   "cell_type": "markdown",
   "metadata": {},
   "source": [
    "データを最もよく再現するパラメータを推定する。確率モデルのパラメータを最尤推定する方法の1つ。"
   ]
  },
  {
   "cell_type": "markdown",
   "metadata": {},
   "source": [
    "## 最尤推定\n",
    "\n",
    "後で紹介するEMアルゴリズムは最尤推定が基本にあるため、紹介。\n",
    "尤度(もっともらしさ)を最大にする。最ももっともらしい値を推定。\n",
    "\n",
    "表が 0.3 の確率で出るコイン A と表が 0.8 の確率で出るコイン B があるとする。\n",
    "A か B か分からないがどちらかのコインを 3 回続けて投げたら、表、裏、表という順番で出た。\n",
    "\n",
    "- コイン A を使ったときの確率（尤度）は、 `0.3　×　（1－0.3）　×　0.3　＝　0.063`\n",
    "- コイン B を使ったときの確率（尤度）は、 `0.8　×　（1－0.8）　×　0.8　＝　0.128`\n",
    "\n",
    "コインBを使った時のほうが確率(尤度)が高い"
   ]
  },
  {
   "cell_type": "markdown",
   "metadata": {},
   "source": [
    "## EMアルゴリズム"
   ]
  },
  {
   "cell_type": "markdown",
   "metadata": {},
   "source": [
    "毎回コインA、コインBのどちらも使う可能性も考慮。"
   ]
  },
  {
   "cell_type": "markdown",
   "metadata": {},
   "source": [
    "**アルゴリズム**\n",
    "\n",
    "http://www.slideshare.net/yag_ays/em-algorithm-animation\n",
    "\n",
    "1. パラメータの初期値を決める\n",
    "2. Expectation ステップ: 未観測データの期待値を求める\n",
    "3. Maximizationステップ: 未観測データを動かして、目的関数を最大にするパラメータを求める\n",
    "4. 収束するまで 2 と 3 のステップを繰り返す"
   ]
  },
  {
   "cell_type": "markdown",
   "metadata": {},
   "source": [
    "デメリット\n",
    "\n",
    "- 局所最適解に陥る可能性がある\n",
    "- パラメータが発散して収束できないことがある"
   ]
  },
  {
   "cell_type": "markdown",
   "metadata": {},
   "source": [
    "## 実践\n",
    "\n",
    "混合ガウスモデル（GMM）のパラメータ推定は、解析的に解けないのでEMアルゴリズムを使用する。\n",
    "GMMでは、混合係数と平均ベクトルと共分散行列がパラメータに当たる。つまりGMMの学習は、尤度がもっとも高くなる混合係数と平均ベクトルと共分散行列を推定することを指す。\n",
    "\n",
    "※ ガウス分布の個数Kは自分で決め打ちする必要がある"
   ]
  },
  {
   "cell_type": "code",
   "execution_count": 21,
   "metadata": {
    "collapsed": false
   },
   "outputs": [],
   "source": [
    "%matplotlib inline\n",
    "import pandas as pd\n",
    "import numpy as np\n",
    "import matplotlib.pyplot as plt\n",
    "import seaborn as sns\n",
    "from sklearn import mixture"
   ]
  },
  {
   "cell_type": "code",
   "execution_count": 22,
   "metadata": {
    "collapsed": false
   },
   "outputs": [],
   "source": [
    "# 間欠泉データ\n",
    "df = pd.read_csv('https://raw.githubusercontent.com/aidiary/PRML/master/ch9/faithful.txt', sep=' ', header=None)\n",
    "df.columns = ['直近の噴出継続時間', '次回の噴出までの待ち時間']"
   ]
  },
  {
   "cell_type": "code",
   "execution_count": 23,
   "metadata": {
    "collapsed": false,
    "scrolled": true
   },
   "outputs": [
    {
     "data": {
      "text/html": [
       "<div>\n",
       "<table border=\"1\" class=\"dataframe\">\n",
       "  <thead>\n",
       "    <tr style=\"text-align: right;\">\n",
       "      <th></th>\n",
       "      <th>直近の噴出継続時間</th>\n",
       "      <th>次回の噴出までの待ち時間</th>\n",
       "    </tr>\n",
       "  </thead>\n",
       "  <tbody>\n",
       "    <tr>\n",
       "      <th>0</th>\n",
       "      <td>3.600</td>\n",
       "      <td>79</td>\n",
       "    </tr>\n",
       "    <tr>\n",
       "      <th>1</th>\n",
       "      <td>1.800</td>\n",
       "      <td>54</td>\n",
       "    </tr>\n",
       "    <tr>\n",
       "      <th>2</th>\n",
       "      <td>3.333</td>\n",
       "      <td>74</td>\n",
       "    </tr>\n",
       "    <tr>\n",
       "      <th>3</th>\n",
       "      <td>2.283</td>\n",
       "      <td>62</td>\n",
       "    </tr>\n",
       "    <tr>\n",
       "      <th>4</th>\n",
       "      <td>4.533</td>\n",
       "      <td>85</td>\n",
       "    </tr>\n",
       "  </tbody>\n",
       "</table>\n",
       "</div>"
      ],
      "text/plain": [
       "   直近の噴出継続時間  次回の噴出までの待ち時間\n",
       "0      3.600            79\n",
       "1      1.800            54\n",
       "2      3.333            74\n",
       "3      2.283            62\n",
       "4      4.533            85"
      ]
     },
     "execution_count": 23,
     "metadata": {},
     "output_type": "execute_result"
    }
   ],
   "source": [
    "df[:5]"
   ]
  },
  {
   "cell_type": "code",
   "execution_count": 25,
   "metadata": {
    "collapsed": false
   },
   "outputs": [
    {
     "data": {
      "image/png": "[encoded data removed]",
      "text/plain": [
       "<matplotlib.figure.Figure at 0x7f3beaad3c18>"
      ]
     },
     "metadata": {},
     "output_type": "display_data"
    }
   ],
   "source": [
    "fig, ax = plt.subplots(figsize=(7, 7))\n",
    "sns.regplot('直近の噴出継続時間', '次回の噴出までの待ち時間', data=df, ax=ax)\n",
    "plt.show()"
   ]
  },
  {
   "cell_type": "markdown",
   "metadata": {},
   "source": [
    "散布図より、データは2つの山に分かれている事がわかる。\n",
    "ガウス分布2つでうまくモデル化出来そう。"
   ]
  },
  {
   "cell_type": "code",
   "execution_count": 28,
   "metadata": {
    "collapsed": true
   },
   "outputs": [],
   "source": [
    "df = (df - df.mean()) / df.std()  # 正規化"
   ]
  },
  {
   "cell_type": "code",
   "execution_count": 26,
   "metadata": {
    "collapsed": true
   },
   "outputs": [],
   "source": [
    "g = mixture.GMM(n_components=2)"
   ]
  },
  {
   "cell_type": "code",
   "execution_count": 29,
   "metadata": {
    "collapsed": false
   },
   "outputs": [
    {
     "data": {
      "text/plain": [
       "GMM(covariance_type='diag', init_params='wmc', min_covar=0.001,\n",
       "  n_components=2, n_init=1, n_iter=100, params='wmc', random_state=None,\n",
       "  thresh=None, tol=0.001, verbose=0)"
      ]
     },
     "execution_count": 29,
     "metadata": {},
     "output_type": "execute_result"
    }
   ],
   "source": [
    "g.fit(df)"
   ]
  },
  {
   "cell_type": "markdown",
   "metadata": {},
   "source": [
    "`fit` に学習データを与えるだけでパラメータ推定できる。\n",
    "混合係数はweights_、平均ベクトルはmeans_、共分散行列はcovars_に格納される。"
   ]
  },
  {
   "cell_type": "code",
   "execution_count": 32,
   "metadata": {
    "collapsed": false
   },
   "outputs": [
    {
     "name": "stdout",
     "output_type": "stream",
     "text": [
      "[ 0.64346832  0.35653168]\n"
     ]
    }
   ],
   "source": [
    "print(g.weights_)"
   ]
  },
  {
   "cell_type": "code",
   "execution_count": 33,
   "metadata": {
    "collapsed": false
   },
   "outputs": [
    {
     "name": "stdout",
     "output_type": "stream",
     "text": [
      "[[ 0.70381824  0.66854874]\n",
      " [-1.27025105 -1.20659667]]\n"
     ]
    }
   ],
   "source": [
    "print(g.means_)"
   ]
  },
  {
   "cell_type": "code",
   "execution_count": 34,
   "metadata": {
    "collapsed": false
   },
   "outputs": [
    {
     "name": "stdout",
     "output_type": "stream",
     "text": [
      "[[ 0.13004823  0.19453084]\n",
      " [ 0.05501827  0.18365945]]\n"
     ]
    }
   ],
   "source": [
    "print(g.covars_)"
   ]
  },
  {
   "cell_type": "markdown",
   "metadata": {},
   "source": [
    "## 参考資料\n",
    "\n",
    "- http://scikit-learn.org/stable/modules/generated/sklearn.mixture.GMM.html\n",
    "- http://aidiary.hatenablog.com/entry/20150322/1427026731\n",
    "- https://ja.wikipedia.org/wiki/EM%E3%82%A2%E3%83%AB%E3%82%B4%E3%83%AA%E3%82%BA%E3%83%A0"
   ]
  }
 ],
 "metadata": {
  "kernelspec": {
   "display_name": "Python 3",
   "language": "python",
   "name": "python3"
  },
  "language_info": {
   "codemirror_mode": {
    "name": "ipython",
    "version": 3
   },
   "file_extension": ".py",
   "mimetype": "text/x-python",
   "name": "python",
   "nbconvert_exporter": "python",
   "pygments_lexer": "ipython3",
   "version": "3.5.1"
  },
  "widgets": {
   "state": {},
   "version": "1.1.1"
  }
 },
 "nbformat": 4,
 "nbformat_minor": 0
}
