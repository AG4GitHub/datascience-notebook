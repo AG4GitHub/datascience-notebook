{
 "cells": [
  {
   "cell_type": "markdown",
   "metadata": {
    "slideshow": {
     "slide_type": "slide"
    }
   },
   "source": [
    "# 決定木(Decision Tree)"
   ]
  },
  {
   "cell_type": "markdown",
   "metadata": {
    "slideshow": {
     "slide_type": "slide"
    }
   },
   "source": [
    "## 樹木モデル(Tree-based model)\n",
    "\n",
    "樹木モデルは非線形回帰分析、非線形判別分析の方法の1つ。回帰問題では回帰木(regression tree)、分類問題では分類木(classification tree)あるいは決定木(decision tree)と呼ばれる。\n",
    "\n",
    "樹木モデルでは、説明変数の値を何らかの基準をもとに分岐させ、判別・予測のモデルを構築する。\n",
    "分岐の過程は木構造で図示することができ、IF-THENのような簡単なルールで表す事ができるため、樹木モデルは分類結果に至った理由を人間が見て解釈しやすい。\n",
    "\n",
    "IF分岐だらけになるため、他の機械学習と違ってカクカクと不連続なパターン分けが階層的に作られていく"
   ]
  },
  {
   "cell_type": "markdown",
   "metadata": {
    "slideshow": {
     "slide_type": "slide"
    }
   },
   "source": [
    "## 分類の考え方\n",
    "\n",
    "ポイントになるのは「不純度(purity)」という概念。個々の分岐に来るごとにできるだけその1回で『集団としてのバラバラさ＝不純度』が大幅に少なくなるようにする。\n",
    "分岐が進めば進むほど純度が高く綺麗に分類されていくように、樹の枝を茂らせていくというのがアルゴリズムの基本。\n",
    "\n",
    "※「ある商品を購入するか否か」という問題がある場合、この時分類されたデータが買う、買わないできれいに分けれればそれは純粋である。"
   ]
  },
  {
   "cell_type": "markdown",
   "metadata": {
    "slideshow": {
     "slide_type": "slide"
    }
   },
   "source": [
    "### 不純度\n",
    "\n",
    "不純度を測る指標として以下のものが知られている。\n",
    "\n",
    "- エントロピー\n",
    "- ジニ係数\n",
    "\n",
    "決定木モデルの種類としてCART(Classification And Regression Trees)やC4.5(C5.0)が知られているが、\n",
    "CARTはジニ係数、C4.5(C5.0)"
   ]
  },
  {
   "cell_type": "markdown",
   "metadata": {
    "slideshow": {
     "slide_type": "slide"
    }
   },
   "source": [
    "## 決定木モデルの種類\n",
    "\n",
    "決定木モデルの種類としてCARTやC4.5(C5.0)などが知られている。"
   ]
  },
  {
   "cell_type": "markdown",
   "metadata": {
    "slideshow": {
     "slide_type": "fragment"
    }
   },
   "source": [
    "### CART(Classification And Regression Trees)\n",
    "\n",
    "ジニ係数(不平等さを示す指標。0-1の間で値をとり、0で平等)を基準に分割する。\n",
    "ノードを分岐させることによって、不純度が減少するような分岐点を探し、ジニ係数が最も低下するように分類する。\n",
    "純度が増す(=バラツキが少なくなる)"
   ]
  },
  {
   "cell_type": "markdown",
   "metadata": {
    "slideshow": {
     "slide_type": "fragment"
    }
   },
   "source": [
    "### C4.5(C5.0/See5)\n",
    "\n",
    "エントロピーを基準に分割を行う。\n",
    "他にもCARTとの違いとして以下の様なものがある。\n",
    "\n",
    "- CARTは2分岐しかできないがC4.5は3分岐以上もできる\n",
    "- CARTは木の剪定をクロスバリデーションによって行うため時間がかかるがC4.5は二項信頼限界を使うため一方行でできる\n",
    "\n",
    "C4.5は商用のSee5/C5.0に改善された(精度・スケーラビリティの向上)。詳細は[こちら](http://rulequest.com/see5-comparison.html)。"
   ]
  },
  {
   "cell_type": "markdown",
   "metadata": {
    "slideshow": {
     "slide_type": "slide"
    }
   },
   "source": [
    "## 決定木の特徴\n",
    "\n",
    "- 学習したモデルを人間が見て解釈しやすい\n",
    "- 入力データの正規化がいらない\n",
    "- カテゴリー変数や欠損値などを入力しても内部で処理してくれる\n",
    "- 特定の条件下では過学習しやすい傾向にある\n",
    "- 非線形分離可能だが、線形分離可能な問題は不得意\n",
    "- クラスごとのデータ数に偏りのあるデータは不得意\n",
    "- データの小さな変化に対して結果が大きく変わりやすい\n",
    "- 予測性能はまずまず\n",
    "- バッチ学習でしか学習できない"
   ]
  },
  {
   "cell_type": "markdown",
   "metadata": {
    "slideshow": {
     "slide_type": "skip"
    }
   },
   "source": [
    "---"
   ]
  },
  {
   "cell_type": "markdown",
   "metadata": {
    "slideshow": {
     "slide_type": "slide"
    }
   },
   "source": [
    "# 決定木の過学習問題\n",
    "\n",
    "データを条件分岐で分けていくという性質上、木の深さが深くなると学習に使えるデータが少なくなるため、過学習(over fitting)しやすい傾向にある。\n",
    "これについては木の深さを少なくしたり枝刈り(剪定, pruning)である程度防ぐことが出来る。\n",
    "\n",
    "特徴量数が多い時も過学習になりやすいため、その場合は次元削減や特徴選択をしておく必要がある。\n",
    "ダミーデータに対してその決定境界(decision boundary)を見てみる"
   ]
  },
  {
   "cell_type": "code",
   "execution_count": 4,
   "metadata": {
    "collapsed": false,
    "slideshow": {
     "slide_type": "skip"
    }
   },
   "outputs": [],
   "source": [
    "%matplotlib inline\n",
    "\n",
    "import pandas as pd\n",
    "import numpy as np\n",
    "import matplotlib.pyplot as plt\n",
    "from sklearn import datasets\n",
    "from sklearn import tree\n",
    "from sklearn import metrics\n",
    "from sklearn.ensemble import RandomForestClassifier\n",
    "\n",
    "import plotting\n",
    "import datasets as datasets_utils"
   ]
  },
  {
   "cell_type": "code",
   "execution_count": 7,
   "metadata": {
    "collapsed": false,
    "slideshow": {
     "slide_type": "slide"
    }
   },
   "outputs": [
    {
     "data": {
      "image/png": "[encoded data removed]",
      "text/plain": [
       "<matplotlib.figure.Figure at 0x7fc0b04d2908>"
      ]
     },
     "metadata": {},
     "output_type": "display_data"
    }
   ],
   "source": [
    "clf = tree.DecisionTreeClassifier()\n",
    "df = datasets_utils.generate_linearly_separable_dataset(50)\n",
    "plotting.plot_result(clf, 'Decision Tree', df)\n",
    "plt.show()"
   ]
  },
  {
   "cell_type": "markdown",
   "metadata": {
    "slideshow": {
     "slide_type": "subslide"
    }
   },
   "source": [
    "どちらも過学習気味であることが見て取れる。"
   ]
  },
  {
   "cell_type": "markdown",
   "metadata": {
    "slideshow": {
     "slide_type": "skip"
    }
   },
   "source": [
    "---"
   ]
  },
  {
   "cell_type": "markdown",
   "metadata": {
    "slideshow": {
     "slide_type": "slide"
    }
   },
   "source": [
    "# ランダムフォレスト(Random Forest)\n",
    "\n",
    "CARTの開発者でもある Leo Breimanが2001年にRandom Forestというアルゴリズムを提案した。\n",
    "これは利用する特徴量の組み合わせを色々用意して、性能がよかった学習記複数の予測結果を多数決で統合。\n",
    "複数の木を独立に学習させるため、並列で学習が可能である。\n",
    "\n",
    "ランダムフォレストのような複数の学習結果を組み合わせる手法をアンサンブル学習(Ensemble Learning)という。\n",
    "単純な決定木ではデータの追加を行うと学習結果が大きく変わるのに対して、ランダムフォレストなどは学習結果が安定しやすくなるといったメリットが有る。また予測性能もアンサンブルをしたほうがより良くなることが知られている。"
   ]
  },
  {
   "cell_type": "markdown",
   "metadata": {
    "slideshow": {
     "slide_type": "slide"
    }
   },
   "source": [
    "### Iris Dataset\n",
    "\n",
    "アイリス(アヤメ)の花に関するデータセット。アイリスにはいくつかの種類があり、このデータセットは3つの異なる品種のサンプルデータから構成されている。最近だとゲノム配列により種の特定が出来ますが、このデータセットが使われ始めた1930年頃はDNAが解明されておらず、花の形状から分類していました。\n",
    "\n",
    "アイリスのデータ・セットには次の4つの要素と花の品種が記録されています。\n",
    "\n",
    "- がく片の長さ (Sepal length)\n",
    "- がく片の幅 (Sepal width)\n",
    "- 花弁の長さ (Petal length)\n",
    "- 花弁の幅 (Petal width)\n",
    "\n",
    "[scikit-learnの中にアイリスのデータセットが含まれている](http://scikit-learn.org/stable/modules/generated/sklearn.datasets.load_iris.html)ため、そちらを使用しましょう。"
   ]
  },
  {
   "cell_type": "code",
   "execution_count": 5,
   "metadata": {
    "collapsed": false,
    "scrolled": true,
    "slideshow": {
     "slide_type": "slide"
    }
   },
   "outputs": [
    {
     "name": "stdout",
     "output_type": "stream",
     "text": [
      "['setosa' 'versicolor' 'virginica']\n"
     ]
    },
    {
     "data": {
      "text/html": [
       "<div>\n",
       "<table border=\"1\" class=\"dataframe\">\n",
       "  <thead>\n",
       "    <tr style=\"text-align: right;\">\n",
       "      <th></th>\n",
       "      <th>sepal length (cm)</th>\n",
       "      <th>sepal width (cm)</th>\n",
       "      <th>petal length (cm)</th>\n",
       "      <th>petal width (cm)</th>\n",
       "      <th>species</th>\n",
       "    </tr>\n",
       "  </thead>\n",
       "  <tbody>\n",
       "    <tr>\n",
       "      <th>0</th>\n",
       "      <td>5.1</td>\n",
       "      <td>3.5</td>\n",
       "      <td>1.4</td>\n",
       "      <td>0.2</td>\n",
       "      <td>0</td>\n",
       "    </tr>\n",
       "    <tr>\n",
       "      <th>1</th>\n",
       "      <td>4.9</td>\n",
       "      <td>3.0</td>\n",
       "      <td>1.4</td>\n",
       "      <td>0.2</td>\n",
       "      <td>0</td>\n",
       "    </tr>\n",
       "    <tr>\n",
       "      <th>2</th>\n",
       "      <td>4.7</td>\n",
       "      <td>3.2</td>\n",
       "      <td>1.3</td>\n",
       "      <td>0.2</td>\n",
       "      <td>0</td>\n",
       "    </tr>\n",
       "    <tr>\n",
       "      <th>3</th>\n",
       "      <td>4.6</td>\n",
       "      <td>3.1</td>\n",
       "      <td>1.5</td>\n",
       "      <td>0.2</td>\n",
       "      <td>0</td>\n",
       "    </tr>\n",
       "  </tbody>\n",
       "</table>\n",
       "</div>"
      ],
      "text/plain": [
       "   sepal length (cm)  sepal width (cm)  petal length (cm)  petal width (cm)  \\\n",
       "0                5.1               3.5                1.4               0.2   \n",
       "1                4.9               3.0                1.4               0.2   \n",
       "2                4.7               3.2                1.3               0.2   \n",
       "3                4.6               3.1                1.5               0.2   \n",
       "\n",
       "   species  \n",
       "0        0  \n",
       "1        0  \n",
       "2        0  \n",
       "3        0  "
      ]
     },
     "execution_count": 5,
     "metadata": {},
     "output_type": "execute_result"
    }
   ],
   "source": [
    "iris = datasets.load_iris()\n",
    "df = pd.DataFrame(iris.data, columns=iris.feature_names)\n",
    "df['species'] = iris.target\n",
    "print(iris.target_names)\n",
    "df[:4]"
   ]
  },
  {
   "cell_type": "markdown",
   "metadata": {
    "slideshow": {
     "slide_type": "fragment"
    }
   },
   "source": [
    "アイリスのデータセットには150個のサンプルが含まれているため、その中からランダムに100個取り出したものを訓練データとして使用する。"
   ]
  },
  {
   "cell_type": "code",
   "execution_count": 6,
   "metadata": {
    "collapsed": false,
    "scrolled": true,
    "slideshow": {
     "slide_type": "slide"
    }
   },
   "outputs": [],
   "source": [
    "train = df.sample(100)\n",
    "test = df.ix[set(df.index) - set(train.index)]\n",
    "\n",
    "train_data = train[train.columns[0:4]]\n",
    "test_data = test[test.columns[0:4]]\n",
    "train_target = train['species']\n",
    "test_target = test['species']"
   ]
  },
  {
   "cell_type": "code",
   "execution_count": 7,
   "metadata": {
    "collapsed": false,
    "slideshow": {
     "slide_type": "fragment"
    }
   },
   "outputs": [],
   "source": [
    "estimator = RandomForestClassifier(n_estimators=100)\n",
    "model = estimator.fit(train_data, train_target)\n",
    "test_ans = model.predict(test_data)"
   ]
  },
  {
   "cell_type": "code",
   "execution_count": 8,
   "metadata": {
    "collapsed": false,
    "slideshow": {
     "slide_type": "fragment"
    }
   },
   "outputs": [
    {
     "data": {
      "text/plain": [
       "0.8266089939592811"
      ]
     },
     "execution_count": 8,
     "metadata": {},
     "output_type": "execute_result"
    }
   ],
   "source": [
    "metrics.adjusted_rand_score(test_target, test_ans)"
   ]
  },
  {
   "cell_type": "markdown",
   "metadata": {
    "slideshow": {
     "slide_type": "fragment"
    }
   },
   "source": [
    "正解率(accuracy): モデルが正しく分類できた割合"
   ]
  },
  {
   "cell_type": "markdown",
   "metadata": {
    "slideshow": {
     "slide_type": "slide"
    }
   },
   "source": [
    "### Visualize the random forest\n",
    "\n",
    "決定木の特徴として人間が分かりやすいというのが挙げられる。今作成した決定木を可視化してみる。"
   ]
  },
  {
   "cell_type": "code",
   "execution_count": 6,
   "metadata": {
    "collapsed": false,
    "slideshow": {
     "slide_type": "skip"
    }
   },
   "outputs": [
    {
     "data": {
      "text/plain": [
       "100"
      ]
     },
     "execution_count": 6,
     "metadata": {},
     "output_type": "execute_result"
    }
   ],
   "source": [
    "len(estimator.estimators_)"
   ]
  },
  {
   "cell_type": "code",
   "execution_count": 7,
   "metadata": {
    "collapsed": false,
    "slideshow": {
     "slide_type": "subslide"
    }
   },
   "outputs": [],
   "source": [
    "tree.export_graphviz(estimator.estimators_[0], out_file=\"tree.dot\")"
   ]
  },
  {
   "cell_type": "code",
   "execution_count": 9,
   "metadata": {
    "collapsed": false,
    "slideshow": {
     "slide_type": "subslide"
    }
   },
   "outputs": [],
   "source": [
    "!dot -Tpng tree.dot -o tree.png"
   ]
  },
  {
   "cell_type": "markdown",
   "metadata": {
    "slideshow": {
     "slide_type": "slide"
    }
   },
   "source": [
    "<img style=\"width: 500px;\" src=\"./tree.png\" />\n",
    "<!-- ![RandomTreeの木構造](tree.png) -->"
   ]
  },
  {
   "cell_type": "markdown",
   "metadata": {
    "slideshow": {
     "slide_type": "fragment"
    }
   },
   "source": [
    "このモデルがどのように判断しているのかが図から確認できる。\n",
    "また最終的にはジニ係数が0となっていることも分かる。"
   ]
  },
  {
   "cell_type": "markdown",
   "metadata": {
    "slideshow": {
     "slide_type": "slide"
    }
   },
   "source": [
    "## 参考文献\n",
    "\n",
    "- [Rによるデータサイエンス](http://www.amazon.co.jp/dp/4627096011)\n",
    "- [chezou/notebooks](https://github.com/chezou/notebooks/blob/master/classification.ipynb)\n",
    "- [機械学習ハンズオン](http://jaistlt.connpass.com/event/17739/)\n",
    "- [Python (programming language): How can I visualize the forests created by random forests in python?](https://www.quora.com/Python-programming-language-How-can-I-visualize-the-forests-created-by-random-forests-in-python)\n",
    "- [パッケージユーザーのための機械学習(1)：決定木](http://tjo.hatenablog.com/entry/2013/11/21/194654)\n",
    "- [データマイニングで使われるトップ10アルゴリズム](http://d.hatena.ne.jp/isseing333/20111123/1322053940)\n",
    "- [パターン認識 第10章 決定木](http://www.slideshare.net/miyoshiyuya/10)"
   ]
  }
 ],
 "metadata": {
  "kernelspec": {
   "display_name": "Python 3",
   "language": "python",
   "name": "python3"
  },
  "language_info": {
   "codemirror_mode": {
    "name": "ipython",
    "version": 3
   },
   "file_extension": ".py",
   "mimetype": "text/x-python",
   "name": "python",
   "nbconvert_exporter": "python",
   "pygments_lexer": "ipython3",
   "version": "3.5.1"
  },
  "widgets": {
   "state": {},
   "version": "1.1.1"
  }
 },
 "nbformat": 4,
 "nbformat_minor": 0
}
