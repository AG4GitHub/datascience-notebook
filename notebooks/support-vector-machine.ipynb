{
 "cells": [
  {
   "cell_type": "markdown",
   "metadata": {},
   "source": [
    "# SVM: Support Vector Machine"
   ]
  },
  {
   "cell_type": "markdown",
   "metadata": {},
   "source": [
    "SVMは、教師あり学習を用いるパターン認識モデルの一つで、分類と回帰問題に適用が可能。高次元の分類問題が得意であると言われている。\n",
    "\n",
    "未学習データに対して高い識別性能を得ることができ、現在知られている手法の中でも認識性能が優れた学習モデルの一つ。"
   ]
  },
  {
   "cell_type": "markdown",
   "metadata": {},
   "source": [
    "### 利点\n",
    "\n",
    "- 次元が大きくなっても識別性能がいい\n",
    "- 最適化すべきパラメータが少ない\n",
    "- パラメータの算出が用意\n",
    "\n",
    "### 欠点\n",
    "\n",
    "- 学習データが増えると計算量が膨大になる (次元の呪い)\n",
    "- 基本的に2クラスの分類にしか使えない\n",
    "    - 複数のSVMを組み合わせることで、 文字認識などの多クラスの識別器を構成することも可能"
   ]
  },
  {
   "cell_type": "markdown",
   "metadata": {},
   "source": [
    "## マージン最大化\n",
    "\n",
    "未学習データに対する識別誤差を最小にする方法として、SVMでは識別面(境界超平面)をマージンの最大化によって決定する。\n",
    "\n",
    "![maximum margin](http://docs.opencv.org/2.4/_images/optimal-hyperplane.png)\n",
    "\n",
    "1. 識別面から再近傍サンプルまでのユークリッド距離へのマージンを計算\n",
    "2. それを最大化するような識別面を考える"
   ]
  },
  {
   "cell_type": "markdown",
   "metadata": {},
   "source": [
    "## カーネル法と非線形サポートベクターマシン\n",
    "\n",
    "#### カーネル法\n",
    "\n",
    "カーネル法(Kernel methods)はカーネル関数を用いて、データを表現し直す方法である。\n",
    "データを異なる空間に写像することによって線形構造に変換することが可能な場合がある。\n",
    "\n",
    "![kernel method](http://cdn-ak.f.st-hatena.com/images/fotolife/s/sudillap/20130406/20130406171322.png)\n",
    "\n",
    "\n",
    "#### 非線形ベクターマシン\n",
    "\n",
    "カーネル法により、非線形的なデータ構造を線形構造に変換することが出来れば、非線形データを扱うことが可能。\n",
    "\n",
    "カーネル関数には以下の様なものがある。\n",
    "\n",
    "- 線形カーネル: もとの訓練データが線形分離可能であればわざわざ特徴空間に写像する必要はない\n",
    "- 多項式カーネル: 画像を分類するときによく用いられる\n",
    "- ラジアル基底関数(RBF): データに関する事前知識がない場合に用いられる汎用的なカーネルです。最もよく用いられるカーネルの一つ\n",
    "\n",
    "など"
   ]
  },
  {
   "cell_type": "markdown",
   "metadata": {},
   "source": [
    "## Digits dataset\n",
    "\n",
    "[手書き文字認識](http://scikit-learn.org/stable/auto_examples/classification/plot_digits_classification.html#example-classification-plot-digits-classification-py)"
   ]
  },
  {
   "cell_type": "code",
   "execution_count": 1,
   "metadata": {
    "collapsed": false
   },
   "outputs": [],
   "source": [
    "%matplotlib inline\n",
    "\n",
    "import pandas as pd\n",
    "import numpy as np\n",
    "import matplotlib.pyplot as plt\n",
    "from sklearn import datasets\n",
    "from sklearn import tree\n",
    "from sklearn import metrics\n",
    "from sklearn import svm\n",
    "\n",
    "import plotting\n",
    "import datasets as datasets_utils"
   ]
  },
  {
   "cell_type": "code",
   "execution_count": 2,
   "metadata": {
    "collapsed": false
   },
   "outputs": [
    {
     "data": {
      "text/plain": [
       "dict_keys(['DESCR', 'target', 'images', 'target_names', 'data'])"
      ]
     },
     "execution_count": 2,
     "metadata": {},
     "output_type": "execute_result"
    }
   ],
   "source": [
    "digits = datasets.load_digits()\n",
    "digits.keys()"
   ]
  },
  {
   "cell_type": "code",
   "execution_count": 17,
   "metadata": {
    "collapsed": false
   },
   "outputs": [
    {
     "data": {
      "text/plain": [
       "(1797, 64)"
      ]
     },
     "execution_count": 17,
     "metadata": {},
     "output_type": "execute_result"
    }
   ],
   "source": [
    "digits.data.shape"
   ]
  },
  {
   "cell_type": "code",
   "execution_count": 4,
   "metadata": {
    "collapsed": false
   },
   "outputs": [
    {
     "data": {
      "text/plain": [
       "(1797, 8, 8)"
      ]
     },
     "execution_count": 4,
     "metadata": {},
     "output_type": "execute_result"
    }
   ],
   "source": [
    "digits.images.shape"
   ]
  },
  {
   "cell_type": "code",
   "execution_count": 18,
   "metadata": {
    "collapsed": false
   },
   "outputs": [
    {
     "data": {
      "text/plain": [
       "<matplotlib.image.AxesImage at 0x7f6404ed04a8>"
      ]
     },
     "execution_count": 18,
     "metadata": {},
     "output_type": "execute_result"
    },
    {
     "data": {
      "image/png": "[encoded data removed]",
      "text/plain": [
       "<matplotlib.figure.Figure at 0x7f6404f81e48>"
      ]
     },
     "metadata": {},
     "output_type": "display_data"
    }
   ],
   "source": [
    "plt.imshow(digits.data[54, :].reshape(8, 8),  interpolation='nearest',  cmap='gray_r')"
   ]
  },
  {
   "cell_type": "code",
   "execution_count": 6,
   "metadata": {
    "collapsed": false
   },
   "outputs": [
    {
     "data": {
      "text/plain": [
       "2"
      ]
     },
     "execution_count": 6,
     "metadata": {},
     "output_type": "execute_result"
    }
   ],
   "source": [
    "digits.target[54]"
   ]
  },
  {
   "cell_type": "markdown",
   "metadata": {},
   "source": [
    "## 学習と予測"
   ]
  },
  {
   "cell_type": "code",
   "execution_count": 13,
   "metadata": {
    "collapsed": false
   },
   "outputs": [
    {
     "data": {
      "text/plain": [
       "SVC(C=100.0, cache_size=200, class_weight=None, coef0=0.0,\n",
       "  decision_function_shape=None, degree=3, gamma=0.001, kernel='rbf',\n",
       "  max_iter=-1, probability=False, random_state=None, shrinking=True,\n",
       "  tol=0.001, verbose=False)"
      ]
     },
     "execution_count": 13,
     "metadata": {},
     "output_type": "execute_result"
    }
   ],
   "source": [
    "clf = svm.SVC(gamma=0.001, C=100.)\n",
    "# 最後の10個以外を使って学習\n",
    "clf.fit(digits.data[:-10], digits.target[:-10])"
   ]
  },
  {
   "cell_type": "markdown",
   "metadata": {},
   "source": [
    "デフォルトのカーネル関数は、ラジアル基底関数(RBF, radial basis function)カーネル。\n",
    "メタパラメータ(gammaやC)は下記の方法で決める。\n",
    "\n",
    "- [Grid Search](http://scikit-learn.org/stable/modules/grid_search.html#grid-search)\n",
    "- [Cross Validation](http://scikit-learn.org/stable/modules/cross_validation.html#cross-validation)"
   ]
  },
  {
   "cell_type": "code",
   "execution_count": 14,
   "metadata": {
    "collapsed": false
   },
   "outputs": [
    {
     "data": {
      "image/png": "[encoded data removed]",
      "text/plain": [
       "<matplotlib.figure.Figure at 0x7f64077a3e80>"
      ]
     },
     "metadata": {},
     "output_type": "display_data"
    }
   ],
   "source": [
    "# テスト用の入力（データセットの最後の10個）の可視化\n",
    "fig, ax = plt.subplots(1, 10, figsize=(14, 4))\n",
    "for i in np.arange(-10, 0):\n",
    "    ax[i].imshow(digits.data[i].reshape(8, 8), interpolation='nearest', cmap='gray_r')\n",
    "    ax[i].axis('off')"
   ]
  },
  {
   "cell_type": "code",
   "execution_count": 15,
   "metadata": {
    "collapsed": false
   },
   "outputs": [
    {
     "data": {
      "text/plain": [
       "array([5, 4, 8, 8, 4, 9, 0, 8, 9, 8])"
      ]
     },
     "execution_count": 15,
     "metadata": {},
     "output_type": "execute_result"
    }
   ],
   "source": [
    "# 予測結果\n",
    "clf.predict(digits.data[-10:])"
   ]
  },
  {
   "cell_type": "markdown",
   "metadata": {},
   "source": [
    "## 正解率"
   ]
  },
  {
   "cell_type": "code",
   "execution_count": null,
   "metadata": {
    "collapsed": false
   },
   "outputs": [],
   "source": [
    "digits.target[-10:]"
   ]
  },
  {
   "cell_type": "code",
   "execution_count": null,
   "metadata": {
    "collapsed": false
   },
   "outputs": [],
   "source": [
    "metrics.accuracy_score(clf.predict(digits.data[-10:]), digits.target[-10:])"
   ]
  },
  {
   "cell_type": "markdown",
   "metadata": {},
   "source": [
    "## 参考資料\n",
    "\n",
    "https://github.com/PyDataOkinawa/meetup003/blob/master/PyData.Okinawa%20Meetup%20003%20-%2002%20Introduction%20to%20scikit-learn.ipynb"
   ]
  }
 ],
 "metadata": {
  "kernelspec": {
   "display_name": "Python 3",
   "language": "python",
   "name": "python3"
  },
  "language_info": {
   "codemirror_mode": {
    "name": "ipython",
    "version": 3
   },
   "file_extension": ".py",
   "mimetype": "text/x-python",
   "name": "python",
   "nbconvert_exporter": "python",
   "pygments_lexer": "ipython3",
   "version": "3.5.1"
  },
  "widgets": {
   "state": {},
   "version": "1.1.1"
  }
 },
 "nbformat": 4,
 "nbformat_minor": 0
}
